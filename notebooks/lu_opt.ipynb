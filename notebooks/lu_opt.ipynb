{
 "cells": [
  {
   "metadata": {
    "ExecuteTime": {
     "end_time": "2025-04-21T23:44:35.404985Z",
     "start_time": "2025-04-21T23:44:34.805090Z"
    }
   },
   "cell_type": "code",
   "source": [
    "import pytensor\n",
    "import pytensor.tensor as pt\n",
    "import numpy as np"
   ],
   "id": "ee7af8eeb202f3db",
   "outputs": [],
   "execution_count": 1
  },
  {
   "metadata": {
    "ExecuteTime": {
     "end_time": "2025-04-21T23:44:36.106459Z",
     "start_time": "2025-04-21T23:44:35.535619Z"
    }
   },
   "cell_type": "code",
   "source": [
    "A = pt.matrix(\"A\")\n",
    "b = pt.vector(\"b\")\n",
    "out = pt.linalg.solve(A, b)\n",
    "grad_out = pt.grad(out.sum(), wrt=b)\n",
    "fn = pytensor.function([A, b], [out, grad_out], trust_input=True, mode=\"NUMBA\")\n",
    "fn.dprint(print_memory_map=True)"
   ],
   "id": "af1a8c19385fc30c",
   "outputs": [
    {
     "name": "stdout",
     "output_type": "stream",
     "text": [
      "Solve{assume_a='gen', lower=False, check_finite=True, b_ndim=1, overwrite_a=False, overwrite_b=False} [id A] 0\n",
      " ├─ A [id B]\n",
      " └─ b [id C]\n",
      "Solve{assume_a='gen', lower=True, check_finite=True, b_ndim=1, overwrite_a=False, overwrite_b=True} [id D] d={0: [1]} 4\n",
      " ├─ Transpose{axes=[1, 0]} [id E] v={0: [0]} 3\n",
      " │  └─ A [id B]\n",
      " └─ Alloc [id F] 2\n",
      "    ├─ [1.] [id G]\n",
      "    └─ Shape_i{0} [id H] 1\n",
      "       └─ b [id C]\n"
     ]
    },
    {
     "data": {
      "text/plain": [
       "<ipykernel.iostream.OutStream at 0x7f279b80f460>"
      ]
     },
     "execution_count": 2,
     "metadata": {},
     "output_type": "execute_result"
    }
   ],
   "execution_count": 2
  },
  {
   "metadata": {
    "ExecuteTime": {
     "end_time": "2025-04-21T23:44:36.308913Z",
     "start_time": "2025-04-21T23:44:36.126960Z"
    }
   },
   "cell_type": "code",
   "source": [
    "from pytensor.tensor.blockwise import Blockwise\n",
    "from pytensor.graph.rewriting.basic import GraphRewriter\n",
    "from pytensor.tensor.elemwise import DimShuffle\n",
    "from pytensor.tensor.slinalg import Solve\n",
    "\n",
    "class GlobalSolveToLUSolve(GraphRewriter):\n",
    "\n",
    "    def __init__(self, eager: bool):\n",
    "        self.eager = eager\n",
    "\n",
    "    def apply(self, fgraph):\n",
    "\n",
    "        def A_is_expand_dims_or_transpose(A):\n",
    "\n",
    "            def is_matrix_transpose(node):\n",
    "                if not isinstance(node.op, DimShuffle):\n",
    "                    return False\n",
    "\n",
    "                if node.op.drop:\n",
    "                    return False\n",
    "\n",
    "                order = list(node.op.new_order)\n",
    "                while order[0] == \"x\":\n",
    "                    order.pop(0)\n",
    "\n",
    "                mt_order = list(range(len(order)))\n",
    "                mt_order[-2:] = reversed(mt_order[-2:])\n",
    "                return mt_order == order\n",
    "\n",
    "            return (\n",
    "                A.owner is not None\n",
    "                and isinstance(A.owner.op, DimShuffle)\n",
    "                and (\n",
    "                    is_matrix_transpose(A.owner)\n",
    "                    or A.owner.op.is_left_expand_dims\n",
    "                )\n",
    "            )\n",
    "\n",
    "        def A_is_broadcasted(node):\n",
    "            A, _ = node.inputs\n",
    "            [out] = node.outputs\n",
    "            batch_ndim = node.op.batch_ndim(node)\n",
    "            print(f\"{batch_ndim=}\")\n",
    "            return any(\n",
    "                a_bcast and not out_bcast\n",
    "                for a_bcast, out_bcast in zip(\n",
    "                    A.type.broadcastable[:batch_ndim],\n",
    "                    out.type.broadcastable[:batch_ndim],\n",
    "                    strict=True,\n",
    "                )\n",
    "            )\n",
    "\n",
    "        toposort_nodes = fgraph.toposort()\n",
    "        solve_nodes = [\n",
    "            node\n",
    "            for node in toposort_nodes\n",
    "            if (isinstance(node.op, Blockwise) and isinstance(node.op.core_op, Solve))\n",
    "        ]\n",
    "\n",
    "        replacements = []\n",
    "        for i, solve_node in enumerate(solve_nodes):\n",
    "            A, b, A_transposed, b_ndim = *solve_node.inputs, False, solve_node.op.core_op.b_ndim\n",
    "            if A_is_expand_dims_or_transpose(A):\n",
    "                A, A_transposed = A.owner.inputs[0], not A.owner.op.is_left_expand_dims\n",
    "\n",
    "            info = [(b, A_transposed, b_ndim, solve_node.outputs[0])]\n",
    "            for j, other_solve_node in enumerate(solve_nodes):\n",
    "                if i == j:\n",
    "                    continue\n",
    "                other_A, other_b, other_b_ndim = *other_solve_node.inputs, other_solve_node.op.core_op.b_ndim\n",
    "                if other_A is A:\n",
    "                    other_A_transposed = False\n",
    "                elif A_is_expand_dims_or_transpose(other_A) and other_A is A:\n",
    "                    other_A_transposed = not other_A.owner.op.is_left_expand_dimsother_A_transposed\n",
    "                else:\n",
    "                    continue\n",
    "                info.append((other_b, other_A_transposed, other_b_ndim, other_solve_node.outputs[0]))\n",
    "\n",
    "            print(f\"{A_is_broadcasted(solve_node)=}\")\n",
    "            if self.eager or len(info) > 1 or A_is_broadcasted(solve_node):\n",
    "                lu_and_pivots = pt.linalg.lu_factor(A)\n",
    "                replacements.extend(\n",
    "                    (\n",
    "                        old_out,\n",
    "                        pt.linalg.lu_solve(lu_and_pivots, b, trans, b_ndim=b_ndim)\n",
    "                    ) for b, trans, b_ndim, old_out in info\n",
    "                )\n",
    "\n",
    "        if replacements:\n",
    "            replacements = sorted(replacements, key=lambda old_and_new: toposort_nodes.index(old_and_new[0].owner))\n",
    "            fgraph.replace_all_validate(replacements)\n",
    "\n",
    "        return len(replacements)"
   ],
   "id": "1733e15f69a74133",
   "outputs": [],
   "execution_count": 3
  },
  {
   "metadata": {},
   "cell_type": "code",
   "outputs": [],
   "execution_count": null,
   "source": "",
   "id": "e7afd02944640a3a"
  },
  {
   "metadata": {
    "ExecuteTime": {
     "end_time": "2025-04-21T23:44:36.343287Z",
     "start_time": "2025-04-21T23:44:36.321548Z"
    }
   },
   "cell_type": "code",
   "source": [
    "from pytensor.graph import FunctionGraph\n",
    "\n",
    "rewriter = GlobalSolveToLUSolve(eager=False)\n",
    "fgraph = FunctionGraph(outputs=[out, grad_out])\n",
    "fgraph.dprint()\n"
   ],
   "id": "e2f2b58a4e5811cb",
   "outputs": [
    {
     "name": "stdout",
     "output_type": "stream",
     "text": [
      "Blockwise{Solve{assume_a='gen', lower=False, check_finite=True, b_ndim=1, overwrite_a=False, overwrite_b=False}, (m,m),(m)->(m)} [id A] 0\n",
      " ├─ A [id B]\n",
      " └─ b [id C]\n",
      "Blockwise{Solve{assume_a='gen', lower=True, check_finite=True, b_ndim=1, overwrite_a=False, overwrite_b=False}, (m,m),(m)->(m)} [id D] 6\n",
      " ├─ Transpose{axes=[1, 0]} [id E] 5\n",
      " │  └─ A [id B]\n",
      " └─ Second [id F] 4\n",
      "    ├─ Blockwise{Solve{assume_a='gen', lower=False, check_finite=True, b_ndim=1, overwrite_a=False, overwrite_b=False}, (m,m),(m)->(m)} [id A] 0\n",
      "    │  └─ ···\n",
      "    └─ ExpandDims{axis=0} [id G] 3\n",
      "       └─ Second [id H] 2\n",
      "          ├─ Sum{axes=None} [id I] 1\n",
      "          │  └─ Blockwise{Solve{assume_a='gen', lower=False, check_finite=True, b_ndim=1, overwrite_a=False, overwrite_b=False}, (m,m),(m)->(m)} [id A] 0\n",
      "          │     └─ ···\n",
      "          └─ 1.0 [id J]\n"
     ]
    },
    {
     "data": {
      "text/plain": [
       "<ipykernel.iostream.OutStream at 0x7f279b80f460>"
      ]
     },
     "execution_count": 4,
     "metadata": {},
     "output_type": "execute_result"
    }
   ],
   "execution_count": 4
  },
  {
   "metadata": {
    "ExecuteTime": {
     "end_time": "2025-04-21T23:44:36.397530Z",
     "start_time": "2025-04-21T23:44:36.387364Z"
    }
   },
   "cell_type": "code",
   "source": "rewriter.rewrite(fgraph)",
   "id": "21f05e52ebef860c",
   "outputs": [
    {
     "name": "stdout",
     "output_type": "stream",
     "text": [
      "batch_ndim=0\n",
      "A_is_broadcasted(solve_node)=False\n",
      "batch_ndim=0\n",
      "batch_ndim=0\n",
      "A_is_broadcasted(solve_node)=False\n",
      "b_ndim=1\n",
      "b_ndim=1\n"
     ]
    },
    {
     "data": {
      "text/plain": [
       "2"
      ]
     },
     "execution_count": 5,
     "metadata": {},
     "output_type": "execute_result"
    }
   ],
   "execution_count": 5
  },
  {
   "metadata": {
    "ExecuteTime": {
     "end_time": "2025-04-21T23:44:36.477433Z",
     "start_time": "2025-04-21T23:44:36.457216Z"
    }
   },
   "cell_type": "code",
   "source": [
    "from pytensor.graph import rewrite_graph\n",
    "\n",
    "rewrite_graph(fgraph, include=(\"canonicalize\", \"specialize\", \"blockwise\")).dprint()"
   ],
   "id": "cc0305b9e95be73",
   "outputs": [
    {
     "name": "stdout",
     "output_type": "stream",
     "text": [
      "SolveTriangular{unit_diagonal=False, lower=False, check_finite=True, b_ndim=1, overwrite_b=False} [id A] 4\n",
      " ├─ LUFactor{overwrite_a=False, check_finite=True, permutation_indices=False}.0 [id B] 0\n",
      " │  └─ A [id C]\n",
      " └─ SolveTriangular{unit_diagonal=True, lower=True, check_finite=True, b_ndim=1, overwrite_b=False} [id D] 3\n",
      "    ├─ LUFactor{overwrite_a=False, check_finite=True, permutation_indices=False}.0 [id B] 0\n",
      "    │  └─ ···\n",
      "    └─ AdvancedSubtensor1 [id E] 2\n",
      "       ├─ b [id F]\n",
      "       └─ PivotToPermutations{inverse=True} [id G] 1\n",
      "          └─ LUFactor{overwrite_a=False, check_finite=True, permutation_indices=False}.1 [id B] 0\n",
      "             └─ ···\n",
      "AdvancedSubtensor1 [id H] 12\n",
      " ├─ SolveTriangular{unit_diagonal=True, lower=False, check_finite=True, b_ndim=1, overwrite_b=False} [id I] 11\n",
      " │  ├─ Transpose{axes=[1, 0]} [id J] 9\n",
      " │  │  └─ LUFactor{overwrite_a=False, check_finite=True, permutation_indices=False}.0 [id B] 0\n",
      " │  │     └─ ···\n",
      " │  └─ SolveTriangular{unit_diagonal=False, lower=True, check_finite=True, b_ndim=1, overwrite_b=False} [id K] 10\n",
      " │     ├─ Transpose{axes=[1, 0]} [id J] 9\n",
      " │     │  └─ ···\n",
      " │     └─ Alloc [id L] 8\n",
      " │        ├─ [1.] [id M]\n",
      " │        └─ Squeeze{axis=0} [id N] 7\n",
      " │           └─ Shape [id O] 6\n",
      " │              └─ SolveTriangular{unit_diagonal=False, lower=False, check_finite=True, b_ndim=1, overwrite_b=False} [id A] 4\n",
      " │                 └─ ···\n",
      " └─ ArgSortOp{kind='quicksort'} [id P] 5\n",
      "    ├─ PivotToPermutations{inverse=True} [id G] 1\n",
      "    │  └─ ···\n",
      "    └─ -1 [id Q]\n"
     ]
    },
    {
     "data": {
      "text/plain": [
       "<ipykernel.iostream.OutStream at 0x7f279b80f460>"
      ]
     },
     "execution_count": 6,
     "metadata": {},
     "output_type": "execute_result"
    }
   ],
   "execution_count": 6
  },
  {
   "metadata": {
    "ExecuteTime": {
     "end_time": "2025-04-21T23:44:36.545426Z",
     "start_time": "2025-04-21T23:44:36.523035Z"
    }
   },
   "cell_type": "code",
   "source": [
    "fn_opt = pytensor.function(fgraph.inputs, fgraph.outputs, trust_input=True, mode=\"NUMBA\")\n",
    "fn_opt.dprint()"
   ],
   "id": "503c78240cf7627e",
   "outputs": [
    {
     "name": "stdout",
     "output_type": "stream",
     "text": [
      "SolveTriangular{unit_diagonal=False, lower=False, check_finite=True, b_ndim=1, overwrite_b=False} [id A] 4\n",
      " ├─ LUFactor{overwrite_a=False, check_finite=True, permutation_indices=False}.0 [id B] 0\n",
      " │  └─ A [id C]\n",
      " └─ SolveTriangular{unit_diagonal=True, lower=True, check_finite=True, b_ndim=1, overwrite_b=False} [id D] 3\n",
      "    ├─ LUFactor{overwrite_a=False, check_finite=True, permutation_indices=False}.0 [id B] 0\n",
      "    │  └─ ···\n",
      "    └─ AdvancedSubtensor1 [id E] 2\n",
      "       ├─ b [id F]\n",
      "       └─ PivotToPermutations{inverse=True} [id G] 1\n",
      "          └─ LUFactor{overwrite_a=False, check_finite=True, permutation_indices=False}.1 [id B] 0\n",
      "             └─ ···\n",
      "AdvancedSubtensor1 [id H] 11\n",
      " ├─ SolveTriangular{unit_diagonal=True, lower=False, check_finite=True, b_ndim=1, overwrite_b=False} [id I] 10\n",
      " │  ├─ Transpose{axes=[1, 0]} [id J] 8\n",
      " │  │  └─ LUFactor{overwrite_a=False, check_finite=True, permutation_indices=False}.0 [id B] 0\n",
      " │  │     └─ ···\n",
      " │  └─ SolveTriangular{unit_diagonal=False, lower=True, check_finite=True, b_ndim=1, overwrite_b=False} [id K] 9\n",
      " │     ├─ Transpose{axes=[1, 0]} [id J] 8\n",
      " │     │  └─ ···\n",
      " │     └─ Alloc [id L] 7\n",
      " │        ├─ [1.] [id M]\n",
      " │        └─ Shape_i{0} [id N] 6\n",
      " │           └─ A [id C]\n",
      " └─ ArgSortOp{kind='quicksort'} [id O] 5\n",
      "    ├─ PivotToPermutations{inverse=True} [id G] 1\n",
      "    │  └─ ···\n",
      "    └─ -1 [id P]\n"
     ]
    },
    {
     "data": {
      "text/plain": [
       "<ipykernel.iostream.OutStream at 0x7f279b80f460>"
      ]
     },
     "execution_count": 7,
     "metadata": {},
     "output_type": "execute_result"
    }
   ],
   "execution_count": 7
  },
  {
   "metadata": {
    "ExecuteTime": {
     "end_time": "2025-04-21T23:44:54.471958Z",
     "start_time": "2025-04-21T23:44:36.609484Z"
    }
   },
   "cell_type": "code",
   "source": [
    "rng = np.random.default_rng(1)\n",
    "A_test = rng.normal(size=(200, 200))\n",
    "b_test = rng.normal(size=(200,))\n",
    "\n",
    "# for i in range(2):\n",
    "#     np.testing.assert_allclose(\n",
    "#         fn(A_test, b_test)[i],\n",
    "#         fn_opt(A_test, b_test)[i],\n",
    "#     )"
   ],
   "id": "897a2123ce1e1b49",
   "outputs": [],
   "execution_count": 8
  },
  {
   "metadata": {
    "ExecuteTime": {
     "end_time": "2025-04-21T23:44:54.485449Z",
     "start_time": "2025-04-21T23:44:54.483805Z"
    }
   },
   "cell_type": "code",
   "source": "# %timeit fn(A_test, b_test)",
   "id": "9d0873cef9cd03c0",
   "outputs": [],
   "execution_count": 9
  },
  {
   "metadata": {
    "ExecuteTime": {
     "end_time": "2025-04-21T23:44:54.538110Z",
     "start_time": "2025-04-21T23:44:54.536252Z"
    }
   },
   "cell_type": "code",
   "source": "# %timeit fn_opt(A_test, b_test)",
   "id": "1d365d65b5119a8b",
   "outputs": [],
   "execution_count": 10
  },
  {
   "metadata": {},
   "cell_type": "markdown",
   "source": "### Case Blockwise",
   "id": "fef6c834b7e2da5d"
  },
  {
   "metadata": {
    "ExecuteTime": {
     "end_time": "2025-04-21T23:44:54.600810Z",
     "start_time": "2025-04-21T23:44:54.587227Z"
    }
   },
   "cell_type": "code",
   "source": [
    "A = pt.tensor3(\"A\")\n",
    "b = pt.tensor4(\"b\")\n",
    "out = pt.linalg.solve(A, b, b_ndim=1)\n",
    "fn = pytensor.function([A, b], out, trust_input=True, mode=\"NUMBA\")\n",
    "fn.dprint(print_memory_map=True)"
   ],
   "id": "26e170a63c1b9fb6",
   "outputs": [
    {
     "name": "stdout",
     "output_type": "stream",
     "text": [
      "[Blockwise{Solve{assume_a='gen', lower=False, check_finite=True, b_ndim=1, overwrite_a=False, overwrite_b=False}, (m,m),(m)->(m)}] [id A] 3\n",
      " ├─ ExpandDims{axes=[0, 1]} [id B] v={0: [0]} 2\n",
      " │  └─ A [id C]\n",
      " ├─ b [id D]\n",
      " └─ MakeVector{dtype='int64'} [id E] 1\n",
      "    └─ Shape_i{3} [id F] 0\n",
      "       └─ b [id D]\n",
      "\n",
      "Inner graphs:\n",
      "\n",
      "[Blockwise{Solve{assume_a='gen', lower=False, check_finite=True, b_ndim=1, overwrite_a=False, overwrite_b=False}, (m,m),(m)->(m)}] [id A]\n",
      " ← Blockwise{Solve{assume_a='gen', lower=False, check_finite=True, b_ndim=1, overwrite_a=False, overwrite_b=False}, (m,m),(m)->(m)} [id G]\n",
      "    ├─ *0-<Tensor5(float64, shape=(1, 1, ?, ?, ?))> [id H]\n",
      "    └─ *1-<Tensor4(float64, shape=(?, ?, ?, ?))> [id I]\n"
     ]
    },
    {
     "data": {
      "text/plain": [
       "<ipykernel.iostream.OutStream at 0x7f279b80f460>"
      ]
     },
     "execution_count": 11,
     "metadata": {},
     "output_type": "execute_result"
    }
   ],
   "execution_count": 11
  },
  {
   "metadata": {
    "ExecuteTime": {
     "end_time": "2025-04-21T23:46:50.738462Z",
     "start_time": "2025-04-21T23:46:50.734208Z"
    }
   },
   "cell_type": "code",
   "source": "A.type",
   "id": "b8c4541710917f51",
   "outputs": [
    {
     "data": {
      "text/plain": [
       "TensorType(float64, shape=(None, None, None))"
      ]
     },
     "execution_count": 20,
     "metadata": {},
     "output_type": "execute_result"
    }
   ],
   "execution_count": 20
  },
  {
   "metadata": {
    "ExecuteTime": {
     "end_time": "2025-04-21T23:47:28.070784Z",
     "start_time": "2025-04-21T23:47:28.062546Z"
    }
   },
   "cell_type": "code",
   "source": "pt.linalg.solve(A, b, b_ndim=1).type",
   "id": "b1a71a0ddabf7e09",
   "outputs": [
    {
     "data": {
      "text/plain": [
       "TensorType(float64, shape=(None, None, None, None))"
      ]
     },
     "execution_count": 22,
     "metadata": {},
     "output_type": "execute_result"
    }
   ],
   "execution_count": 22
  },
  {
   "metadata": {
    "ExecuteTime": {
     "end_time": "2025-04-21T23:48:21.528018Z",
     "start_time": "2025-04-21T23:48:21.522366Z"
    }
   },
   "cell_type": "code",
   "source": "lu_and_pivots = pt.linalg.lu_factor(A)",
   "id": "e21b09df4229757a",
   "outputs": [],
   "execution_count": 24
  },
  {
   "metadata": {
    "ExecuteTime": {
     "end_time": "2025-04-21T23:48:37.716129Z",
     "start_time": "2025-04-21T23:48:37.706086Z"
    }
   },
   "cell_type": "code",
   "source": "pt.linalg.lu_solve(lu_and_pivots, b, b_ndim=1).type",
   "id": "68ef61f0e885dc83",
   "outputs": [
    {
     "name": "stdout",
     "output_type": "stream",
     "text": [
      "b_ndim=1\n"
     ]
    },
    {
     "data": {
      "text/plain": [
       "TensorType(float64, shape=(None, None, None, None, None))"
      ]
     },
     "execution_count": 25,
     "metadata": {},
     "output_type": "execute_result"
    }
   ],
   "execution_count": 25
  },
  {
   "metadata": {
    "ExecuteTime": {
     "end_time": "2025-04-21T23:50:31.648522Z",
     "start_time": "2025-04-21T23:50:31.644312Z"
    }
   },
   "cell_type": "code",
   "source": "lu_and_pivots[1].type",
   "id": "fb36219bf0a109ad",
   "outputs": [
    {
     "data": {
      "text/plain": [
       "TensorType(int64, shape=(None, None))"
      ]
     },
     "execution_count": 30,
     "metadata": {},
     "output_type": "execute_result"
    }
   ],
   "execution_count": 30
  },
  {
   "metadata": {
    "ExecuteTime": {
     "end_time": "2025-04-21T23:50:15.989807Z",
     "start_time": "2025-04-21T23:50:15.983261Z"
    }
   },
   "cell_type": "code",
   "source": [
    "from pytensor.tensor.slinalg import pivot_to_permutation\n",
    "\n",
    "pivot_to_permutation(lu_and_pivots[1], inverse=True).type"
   ],
   "id": "f71f260181cc05eb",
   "outputs": [
    {
     "data": {
      "text/plain": [
       "TensorType(int64, shape=(None, None))"
      ]
     },
     "execution_count": 28,
     "metadata": {},
     "output_type": "execute_result"
    }
   ],
   "execution_count": 28
  },
  {
   "metadata": {
    "ExecuteTime": {
     "end_time": "2025-04-21T23:44:54.887166Z",
     "start_time": "2025-04-21T23:44:54.641036Z"
    }
   },
   "cell_type": "code",
   "source": [
    "fgraph = FunctionGraph(outputs=[out])\n",
    "rewriter = GlobalSolveToLUSolve(eager=False)\n",
    "print(rewriter.rewrite(fgraph))\n",
    "fgraph.dprint(print_shape=True)"
   ],
   "id": "f61abeedc96799f3",
   "outputs": [
    {
     "name": "stdout",
     "output_type": "stream",
     "text": [
      "batch_ndim=3\n",
      "A_is_broadcasted(solve_node)=True\n",
      "batch_ndim=3\n",
      "b_ndim=1\n"
     ]
    },
    {
     "name": "stderr",
     "output_type": "stream",
     "text": [
      "<<!! BUG IN FGRAPH.REPLACE OR A LISTENER !!>> <class 'TypeError'> Cannot convert Type Tensor5(float64, shape=(?, ?, ?, ?, ?)) (of Variable Blockwise{SolveTriangular{unit_diagonal=False, lower=False, check_finite=True, b_ndim=1, overwrite_b=False}, (m,m),(m)->(m)}.0) into Type Tensor4(float64, shape=(?, ?, ?, ?)). You can try to manually convert Blockwise{SolveTriangular{unit_diagonal=False, lower=False, check_finite=True, b_ndim=1, overwrite_b=False}, (m,m),(m)->(m)}.0 into a Tensor4(float64, shape=(?, ?, ?, ?)). None\n"
     ]
    },
    {
     "ename": "TypeError",
     "evalue": "Cannot convert Type Tensor5(float64, shape=(?, ?, ?, ?, ?)) (of Variable Blockwise{SolveTriangular{unit_diagonal=False, lower=False, check_finite=True, b_ndim=1, overwrite_b=False}, (m,m),(m)->(m)}.0) into Type Tensor4(float64, shape=(?, ?, ?, ?)). You can try to manually convert Blockwise{SolveTriangular{unit_diagonal=False, lower=False, check_finite=True, b_ndim=1, overwrite_b=False}, (m,m),(m)->(m)}.0 into a Tensor4(float64, shape=(?, ?, ?, ?)).",
     "output_type": "error",
     "traceback": [
      "\u001B[0;31m---------------------------------------------------------------------------\u001B[0m",
      "\u001B[0;31mTypeError\u001B[0m                                 Traceback (most recent call last)",
      "Cell \u001B[0;32mIn[12], line 3\u001B[0m\n\u001B[1;32m      1\u001B[0m fgraph \u001B[38;5;241m=\u001B[39m FunctionGraph(outputs\u001B[38;5;241m=\u001B[39m[out])\n\u001B[1;32m      2\u001B[0m rewriter \u001B[38;5;241m=\u001B[39m GlobalSolveToLUSolve(eager\u001B[38;5;241m=\u001B[39m\u001B[38;5;28;01mFalse\u001B[39;00m)\n\u001B[0;32m----> 3\u001B[0m \u001B[38;5;28mprint\u001B[39m(\u001B[43mrewriter\u001B[49m\u001B[38;5;241;43m.\u001B[39;49m\u001B[43mrewrite\u001B[49m\u001B[43m(\u001B[49m\u001B[43mfgraph\u001B[49m\u001B[43m)\u001B[49m)\n\u001B[1;32m      4\u001B[0m fgraph\u001B[38;5;241m.\u001B[39mdprint(print_shape\u001B[38;5;241m=\u001B[39m\u001B[38;5;28;01mTrue\u001B[39;00m)\n",
      "File \u001B[0;32m~/Documents/pytensor/pytensor/graph/rewriting/basic.py:120\u001B[0m, in \u001B[0;36mGraphRewriter.rewrite\u001B[0;34m(self, fgraph, *args, **kwargs)\u001B[0m\n\u001B[1;32m    111\u001B[0m \u001B[38;5;250m\u001B[39m\u001B[38;5;124;03m\"\"\"\u001B[39;00m\n\u001B[1;32m    112\u001B[0m \n\u001B[1;32m    113\u001B[0m \u001B[38;5;124;03mThis is meant as a shortcut for the following::\u001B[39;00m\n\u001B[0;32m   (...)\u001B[0m\n\u001B[1;32m    117\u001B[0m \n\u001B[1;32m    118\u001B[0m \u001B[38;5;124;03m\"\"\"\u001B[39;00m\n\u001B[1;32m    119\u001B[0m \u001B[38;5;28mself\u001B[39m\u001B[38;5;241m.\u001B[39madd_requirements(fgraph)\n\u001B[0;32m--> 120\u001B[0m \u001B[38;5;28;01mreturn\u001B[39;00m \u001B[38;5;28;43mself\u001B[39;49m\u001B[38;5;241;43m.\u001B[39;49m\u001B[43mapply\u001B[49m\u001B[43m(\u001B[49m\u001B[43mfgraph\u001B[49m\u001B[43m,\u001B[49m\u001B[43m \u001B[49m\u001B[38;5;241;43m*\u001B[39;49m\u001B[43margs\u001B[49m\u001B[43m,\u001B[49m\u001B[43m \u001B[49m\u001B[38;5;241;43m*\u001B[39;49m\u001B[38;5;241;43m*\u001B[39;49m\u001B[43mkwargs\u001B[49m\u001B[43m)\u001B[49m\n",
      "Cell \u001B[0;32mIn[3], line 91\u001B[0m, in \u001B[0;36mGlobalSolveToLUSolve.apply\u001B[0;34m(self, fgraph)\u001B[0m\n\u001B[1;32m     89\u001B[0m \u001B[38;5;28;01mif\u001B[39;00m replacements:\n\u001B[1;32m     90\u001B[0m     replacements \u001B[38;5;241m=\u001B[39m \u001B[38;5;28msorted\u001B[39m(replacements, key\u001B[38;5;241m=\u001B[39m\u001B[38;5;28;01mlambda\u001B[39;00m old_and_new: toposort_nodes\u001B[38;5;241m.\u001B[39mindex(old_and_new[\u001B[38;5;241m0\u001B[39m]\u001B[38;5;241m.\u001B[39mowner))\n\u001B[0;32m---> 91\u001B[0m     \u001B[43mfgraph\u001B[49m\u001B[38;5;241;43m.\u001B[39;49m\u001B[43mreplace_all_validate\u001B[49m\u001B[43m(\u001B[49m\u001B[43mreplacements\u001B[49m\u001B[43m)\u001B[49m\n\u001B[1;32m     93\u001B[0m \u001B[38;5;28;01mreturn\u001B[39;00m \u001B[38;5;28mlen\u001B[39m(replacements)\n",
      "File \u001B[0;32m~/Documents/pytensor/pytensor/graph/features.py:579\u001B[0m, in \u001B[0;36mReplaceValidate.replace_all_validate\u001B[0;34m(self, fgraph, replacements, reason, verbose, **kwargs)\u001B[0m\n\u001B[1;32m    577\u001B[0m \u001B[38;5;28;01mfor\u001B[39;00m r, new_r \u001B[38;5;129;01min\u001B[39;00m replacements:\n\u001B[1;32m    578\u001B[0m     \u001B[38;5;28;01mtry\u001B[39;00m:\n\u001B[0;32m--> 579\u001B[0m         \u001B[43mfgraph\u001B[49m\u001B[38;5;241;43m.\u001B[39;49m\u001B[43mreplace\u001B[49m\u001B[43m(\u001B[49m\u001B[43mr\u001B[49m\u001B[43m,\u001B[49m\u001B[43m \u001B[49m\u001B[43mnew_r\u001B[49m\u001B[43m,\u001B[49m\u001B[43m \u001B[49m\u001B[43mreason\u001B[49m\u001B[38;5;241;43m=\u001B[39;49m\u001B[43mreason\u001B[49m\u001B[43m,\u001B[49m\u001B[43m \u001B[49m\u001B[43mverbose\u001B[49m\u001B[38;5;241;43m=\u001B[39;49m\u001B[38;5;28;43;01mFalse\u001B[39;49;00m\u001B[43m,\u001B[49m\u001B[43m \u001B[49m\u001B[38;5;241;43m*\u001B[39;49m\u001B[38;5;241;43m*\u001B[39;49m\u001B[43mkwargs\u001B[49m\u001B[43m)\u001B[49m\n\u001B[1;32m    580\u001B[0m     \u001B[38;5;28;01mexcept\u001B[39;00m \u001B[38;5;167;01mException\u001B[39;00m \u001B[38;5;28;01mas\u001B[39;00m e:\n\u001B[1;32m    581\u001B[0m         msg \u001B[38;5;241m=\u001B[39m \u001B[38;5;28mstr\u001B[39m(e)\n",
      "File \u001B[0;32m~/Documents/pytensor/pytensor/graph/fg.py:506\u001B[0m, in \u001B[0;36mFunctionGraph.replace\u001B[0;34m(self, var, new_var, reason, verbose, import_missing)\u001B[0m\n\u001B[1;32m    501\u001B[0m     \u001B[38;5;28;01mif\u001B[39;00m print_reason:\n\u001B[1;32m    502\u001B[0m         \u001B[38;5;28mprint\u001B[39m(  \u001B[38;5;66;03m# noqa: T201\u001B[39;00m\n\u001B[1;32m    503\u001B[0m             \u001B[38;5;124mf\u001B[39m\u001B[38;5;124m\"\u001B[39m\u001B[38;5;124mrewriting: rewrite \u001B[39m\u001B[38;5;132;01m{\u001B[39;00mreason\u001B[38;5;132;01m}\u001B[39;00m\u001B[38;5;124m replaces \u001B[39m\u001B[38;5;132;01m{\u001B[39;00mvar\u001B[38;5;132;01m}\u001B[39;00m\u001B[38;5;124m of \u001B[39m\u001B[38;5;132;01m{\u001B[39;00mvar\u001B[38;5;241m.\u001B[39mowner\u001B[38;5;132;01m}\u001B[39;00m\u001B[38;5;124m with \u001B[39m\u001B[38;5;132;01m{\u001B[39;00mnew_var\u001B[38;5;132;01m}\u001B[39;00m\u001B[38;5;124m of \u001B[39m\u001B[38;5;132;01m{\u001B[39;00mnew_var\u001B[38;5;241m.\u001B[39mowner\u001B[38;5;132;01m}\u001B[39;00m\u001B[38;5;124m\"\u001B[39m\n\u001B[1;32m    504\u001B[0m         )\n\u001B[0;32m--> 506\u001B[0m new_var \u001B[38;5;241m=\u001B[39m \u001B[43mvar\u001B[49m\u001B[38;5;241;43m.\u001B[39;49m\u001B[43mtype\u001B[49m\u001B[38;5;241;43m.\u001B[39;49m\u001B[43mfilter_variable\u001B[49m\u001B[43m(\u001B[49m\u001B[43mnew_var\u001B[49m\u001B[43m,\u001B[49m\u001B[43m \u001B[49m\u001B[43mallow_convert\u001B[49m\u001B[38;5;241;43m=\u001B[39;49m\u001B[38;5;28;43;01mTrue\u001B[39;49;00m\u001B[43m)\u001B[49m\n\u001B[1;32m    508\u001B[0m \u001B[38;5;28;01mif\u001B[39;00m var \u001B[38;5;129;01mnot\u001B[39;00m \u001B[38;5;129;01min\u001B[39;00m \u001B[38;5;28mself\u001B[39m\u001B[38;5;241m.\u001B[39mvariables:\n\u001B[1;32m    509\u001B[0m     \u001B[38;5;66;03m# TODO: Raise an actual exception here.\u001B[39;00m\n\u001B[1;32m    510\u001B[0m     \u001B[38;5;66;03m# Old comment:\u001B[39;00m\n\u001B[0;32m   (...)\u001B[0m\n\u001B[1;32m    514\u001B[0m     \u001B[38;5;66;03m# multiple-output ops\u001B[39;00m\n\u001B[1;32m    515\u001B[0m     \u001B[38;5;66;03m# raise ValueError()\u001B[39;00m\n\u001B[1;32m    516\u001B[0m     \u001B[38;5;28;01mreturn\u001B[39;00m\n",
      "File \u001B[0;32m~/Documents/pytensor/pytensor/tensor/type.py:291\u001B[0m, in \u001B[0;36mTensorType.filter_variable\u001B[0;34m(self, other, allow_convert)\u001B[0m\n\u001B[1;32m    288\u001B[0m     \u001B[38;5;28;01mif\u001B[39;00m other2 \u001B[38;5;129;01mis\u001B[39;00m \u001B[38;5;129;01mnot\u001B[39;00m \u001B[38;5;28;01mNone\u001B[39;00m:\n\u001B[1;32m    289\u001B[0m         \u001B[38;5;28;01mreturn\u001B[39;00m other2\n\u001B[0;32m--> 291\u001B[0m \u001B[38;5;28;01mraise\u001B[39;00m \u001B[38;5;167;01mTypeError\u001B[39;00m(\n\u001B[1;32m    292\u001B[0m     \u001B[38;5;124mf\u001B[39m\u001B[38;5;124m\"\u001B[39m\u001B[38;5;124mCannot convert Type \u001B[39m\u001B[38;5;132;01m{\u001B[39;00mother\u001B[38;5;241m.\u001B[39mtype\u001B[38;5;132;01m}\u001B[39;00m\u001B[38;5;124m \u001B[39m\u001B[38;5;124m\"\u001B[39m\n\u001B[1;32m    293\u001B[0m     \u001B[38;5;124mf\u001B[39m\u001B[38;5;124m\"\u001B[39m\u001B[38;5;124m(of Variable \u001B[39m\u001B[38;5;132;01m{\u001B[39;00mother\u001B[38;5;132;01m}\u001B[39;00m\u001B[38;5;124m) into Type \u001B[39m\u001B[38;5;132;01m{\u001B[39;00m\u001B[38;5;28mself\u001B[39m\u001B[38;5;132;01m}\u001B[39;00m\u001B[38;5;124m. \u001B[39m\u001B[38;5;124m\"\u001B[39m\n\u001B[1;32m    294\u001B[0m     \u001B[38;5;124mf\u001B[39m\u001B[38;5;124m\"\u001B[39m\u001B[38;5;124mYou can try to manually convert \u001B[39m\u001B[38;5;132;01m{\u001B[39;00mother\u001B[38;5;132;01m}\u001B[39;00m\u001B[38;5;124m into a \u001B[39m\u001B[38;5;132;01m{\u001B[39;00m\u001B[38;5;28mself\u001B[39m\u001B[38;5;132;01m}\u001B[39;00m\u001B[38;5;124m.\u001B[39m\u001B[38;5;124m\"\u001B[39m\n\u001B[1;32m    295\u001B[0m )\n",
      "\u001B[0;31mTypeError\u001B[0m: Cannot convert Type Tensor5(float64, shape=(?, ?, ?, ?, ?)) (of Variable Blockwise{SolveTriangular{unit_diagonal=False, lower=False, check_finite=True, b_ndim=1, overwrite_b=False}, (m,m),(m)->(m)}.0) into Type Tensor4(float64, shape=(?, ?, ?, ?)). You can try to manually convert Blockwise{SolveTriangular{unit_diagonal=False, lower=False, check_finite=True, b_ndim=1, overwrite_b=False}, (m,m),(m)->(m)}.0 into a Tensor4(float64, shape=(?, ?, ?, ?))."
     ]
    }
   ],
   "execution_count": 12
  },
  {
   "metadata": {},
   "cell_type": "code",
   "source": [
    "rng = np.random.default_rng(1)\n",
    "A_test = rng.normal(size=(4, 200, 200))\n",
    "b_test = rng.normal(size=(4, 200,))\n",
    "\n",
    "for i in range(2):\n",
    "    np.testing.assert_allclose(\n",
    "        fn(A_test, b_test)[i],\n",
    "        fn_opt(A_test, b_test)[i],\n",
    "    )"
   ],
   "id": "448d276b330a4ab8",
   "outputs": [],
   "execution_count": null
  },
  {
   "metadata": {},
   "cell_type": "code",
   "source": "8.5/ 5.2",
   "id": "a96d0c81f90f6ac5",
   "outputs": [],
   "execution_count": null
  },
  {
   "metadata": {},
   "cell_type": "code",
   "source": "",
   "id": "97af07ee65ea35ef",
   "outputs": [],
   "execution_count": null
  }
 ],
 "metadata": {
  "kernelspec": {
   "display_name": "Python 3",
   "language": "python",
   "name": "python3"
  },
  "language_info": {
   "codemirror_mode": {
    "name": "ipython",
    "version": 2
   },
   "file_extension": ".py",
   "mimetype": "text/x-python",
   "name": "python",
   "nbconvert_exporter": "python",
   "pygments_lexer": "ipython2",
   "version": "2.7.6"
  }
 },
 "nbformat": 4,
 "nbformat_minor": 5
}
